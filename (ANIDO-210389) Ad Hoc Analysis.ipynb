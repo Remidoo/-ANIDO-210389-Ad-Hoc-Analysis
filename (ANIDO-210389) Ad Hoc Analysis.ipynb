{
 "cells": [
  {
   "cell_type": "code",
   "execution_count": 98,
   "id": "997a12e9-f99d-43ee-af90-2b574cf1ed2e",
   "metadata": {},
   "outputs": [],
   "source": [
    "import json\n",
    "import pandas as pd\n",
    "\n",
    "response = open('transaction-data-adhoc-analysis.json')\n",
    "data = json.load(response)\n",
    "df = pd.DataFrame(data)\n",
    "\n",
    "#Returns the month name of transaction date\n",
    "def monthlist(date):\n",
    "    monthsonly = date.split(\"/\")[1]\n",
    "    if \"1\" in monthsonly:\n",
    "        return('January')\n",
    "    elif \"2\" in monthsonly:\n",
    "        return('February')\n",
    "    elif \"3\" in monthsonly:\n",
    "        return('March')\n",
    "    elif \"4\" in monthsonly:\n",
    "        return('April')\n",
    "    elif \"5\" in monthsonly:\n",
    "        return('May')\n",
    "    elif \"6\" in monthsonly:\n",
    "        return('June')\n",
    "\n",
    "#Returns a series of the month name of each transaction date\n",
    "nmonthlist = pd.Series(monthlist(i) for i in list(df['transaction_date']))\n",
    "\n",
    "#Adds a column named 'month' in original df which displays the month name of each transaction date\n",
    "df.insert(0, 'month', nmonthlist, allow_duplicates = False)\n",
    "\n",
    "#Month list\n",
    "months = list(df['month'].drop_duplicates())\n",
    "\n",
    "#Returns number of specific products sold per month\n",
    "def transacitemspm(month):\n",
    "    monthlydf = df[df[\"month\"]==month]\n",
    "    blank = []\n",
    "    for i in monthlydf['transaction_items']:\n",
    "        x = i.split(\";\")\n",
    "        for i in range(0,len(x)):\n",
    "            blank.append(x[i].split(','))\n",
    "    productdfpm = pd.DataFrame(blank, columns=('Brandname','Productname','Quantity'))\n",
    "    numseparated = productdfpm['Quantity'].str.extract(r'([(x)])(\\d)',expand=False)\n",
    "    productdfpm['Quantity'] = numseparated.drop(columns=0)\n",
    "    productdfpm['Quantity'] = productdfpm['Quantity'].astype(int)\n",
    "    itemssoldpermonth=productdfpm.groupby('Productname').sum().squeeze()\n",
    "    return itemssoldpermonth\n",
    "\n",
    "#Returns table displaying products sold per month (First table)\n",
    "salesquanspec_df = pd.DataFrame({i:transacitemspm(i) for i in months})\n",
    "\n",
    "#Pricelist returns unedited price list (with Brand and Quantity)\n",
    "ptlist= df[[\"transaction_items\",\"transaction_value\"]].drop_duplicates(subset=['transaction_items'])\n",
    "pricelist=ptlist.loc[(df['transaction_items'].str.contains(\";\") == False) & (df['transaction_items'].str.contains(\"x1\"))]\n",
    "\n",
    "#Jitems returns official price list\n",
    "chart = []\n",
    "for i in range(0, len(list(pricelist[\"transaction_items\"]))):\n",
    "    chart.append(list(pricelist[\"transaction_items\"])[i].split(','))\n",
    "items = pd.DataFrame(chart, columns=['Brand', 'Product', 'Quantity'])\n",
    "jitems = items.drop(columns = ['Quantity', 'Brand'])\n",
    "cost = pricelist.drop(columns=['transaction_items'])\n",
    "jitems.insert(1, 'Value', cost, allow_duplicates = False)\n",
    "\n",
    "#Returns price per product\n",
    "def pprice(item):\n",
    "    pjitems = jitems['Product']\n",
    "    for i in pjitems:\n",
    "        if i == item:\n",
    "            pnv = (jitems.loc[jitems['Product']==i])\n",
    "            prodval = int(pnv['Value'])\n",
    "            return prodval\n",
    "                \n",
    "#Returns sales value per item per months\n",
    "def tsvpmonth(item):      \n",
    "    return(salesquanspec_df.loc[item]*pprice(item))\n",
    "salesval_df = pd.DataFrame({i:tsvpmonth(i) for i in list(jitems['Product'])})\n",
    "\n",
    "#Returns table of sale value per item per month (Second Table)\n",
    "finalsalesval_df = salesval_df.transpose() \n",
    "\n",
    "#Returns transaction data of customers per month without name duplicates\n",
    "def custpermonth(month):\n",
    "    mcust = df[df[\"month\"]==month].drop_duplicates(subset=['name'])\n",
    "    return mcust\n",
    "\n",
    "#Returns dictionary of customers per month\n",
    "acustdict = {i:custpermonth(i) for i in months}\n",
    "\n",
    "#Returns just the names of the customers per month\n",
    "def monthlycustomers(month):\n",
    "    mcust = set(df[df[\"month\"]==month].drop_duplicates(subset=['name'])['name'])\n",
    "    return mcust\n",
    "\n",
    "#Returns dictionary of set customers per month\n",
    "bcustdict = {i:monthlycustomers(i) for i in months}\n",
    "\n",
    "#Returns the number of repeaters per specific month\n",
    "def repeater(month):\n",
    "    if month == 'January':\n",
    "        return 0\n",
    "    else:\n",
    "        monthnum = months.index(month)\n",
    "        pastmonth = months[monthnum-1]\n",
    "        monthspecified = pd.Series(acustdict[month]['name'])\n",
    "        monthago = pd.Series(acustdict[pastmonth]['name'])\n",
    "        merged = pd.merge(monthspecified, monthago, how ='inner')\n",
    "        return len(merged)  \n",
    "\n",
    "#Returns the number of inactive customers per specific month\n",
    "def inactive(month):\n",
    "    if month == 'January':\n",
    "        return 0\n",
    "    else:\n",
    "        monthnum = months.index(month)\n",
    "        pastmonth = months[:monthnum]\n",
    "        monthspecified = pd.Series(acustdict[month]['name'])\n",
    "        monthago = df[df[\"month\"].isin(pastmonth)].drop_duplicates(subset=['name'])\n",
    "        merged = pd.merge(monthspecified, monthago, how ='inner')\n",
    "        return len(monthago) - len(merged)\n",
    "\n",
    "#Returns the number of engaged customers per specific month\n",
    "def engaged(month):\n",
    "    monthnum = months.index(month)\n",
    "    jancust = set(bcustdict[months[0]])\n",
    "    i = 0\n",
    "    while i <= monthnum:\n",
    "        currlist = set(bcustdict[months[i]])\n",
    "        custs = jancust & currlist\n",
    "        i = i+1\n",
    "        if i > monthnum:\n",
    "            return len(custs)\n",
    "        \n",
    "#Returns number of repeaters per each month from January to June\n",
    "repeater_s = pd.Series({i:repeater(i) for i in months})\n",
    "\n",
    "#Returns number of inactive customers per each month from January to June\n",
    "inactive_s = pd.Series({i:inactive(i) for i in months})\n",
    "\n",
    "#Returns number of engaged customers per each month from January to June\n",
    "engaged_s = pd.Series({i:engaged(i) for i in months})\n",
    "\n",
    "blanklist = []\n",
    "#Returns table displaying repeaters, inactive, and engaged per month (Third Table)\n",
    "metric_df = pd.DataFrame({'Repeaters':repeater_s,'Inactive':inactive_s,'Engaged':engaged_s}).transpose()\n",
    "\n",
    "#Other codes:\n",
    "#Returns sales value per item per specific month\n",
    "def spipmonth(item, month):\n",
    "        for i in final_df:\n",
    "            if month in i:\n",
    "                fmonth = final_df[month]\n",
    "                sfmonth = fmonth[item]\n",
    "                def pprice(item):\n",
    "                    pjitems = jitems['Product']\n",
    "                    for i in pjitems:\n",
    "                        if i == item:\n",
    "                            pnv = (jitems.loc[jitems['Product']==i])\n",
    "                            prodval = int(pnv['Value'])\n",
    "                            return prodval\n",
    "                return(sfmonth*pprice(item))\n",
    "            \n",
    "#Returns the transaction months of a specific name\n",
    "def userpurchases(name):\n",
    "    unameindex = df[df['name'] == name].index\n",
    "    uname_df = df.iloc[unameindex]\n",
    "    return uname_df[[\"month\",\"name\"]]\n",
    "\n",
    "#Returns the names of all customers\n",
    "custlist = df['name'].drop_duplicates()\n"
   ]
  },
  {
   "cell_type": "code",
   "execution_count": 99,
   "id": "fca3ca18-c272-4bfe-8f7f-47286ac120e8",
   "metadata": {},
   "outputs": [
    {
     "data": {
      "text/html": [
       "<div>\n",
       "<style scoped>\n",
       "    .dataframe tbody tr th:only-of-type {\n",
       "        vertical-align: middle;\n",
       "    }\n",
       "\n",
       "    .dataframe tbody tr th {\n",
       "        vertical-align: top;\n",
       "    }\n",
       "\n",
       "    .dataframe thead th {\n",
       "        text-align: right;\n",
       "    }\n",
       "</style>\n",
       "<table border=\"1\" class=\"dataframe\">\n",
       "  <thead>\n",
       "    <tr style=\"text-align: right;\">\n",
       "      <th></th>\n",
       "      <th>January</th>\n",
       "      <th>February</th>\n",
       "      <th>March</th>\n",
       "      <th>April</th>\n",
       "      <th>May</th>\n",
       "      <th>June</th>\n",
       "    </tr>\n",
       "    <tr>\n",
       "      <th>Productname</th>\n",
       "      <th></th>\n",
       "      <th></th>\n",
       "      <th></th>\n",
       "      <th></th>\n",
       "      <th></th>\n",
       "      <th></th>\n",
       "    </tr>\n",
       "  </thead>\n",
       "  <tbody>\n",
       "    <tr>\n",
       "      <th>Beef Chicharon</th>\n",
       "      <td>9665</td>\n",
       "      <td>10001</td>\n",
       "      <td>9816</td>\n",
       "      <td>9890</td>\n",
       "      <td>10028</td>\n",
       "      <td>9902</td>\n",
       "    </tr>\n",
       "    <tr>\n",
       "      <th>Gummy Vitamins</th>\n",
       "      <td>9681</td>\n",
       "      <td>9980</td>\n",
       "      <td>10145</td>\n",
       "      <td>9842</td>\n",
       "      <td>9948</td>\n",
       "      <td>9980</td>\n",
       "    </tr>\n",
       "    <tr>\n",
       "      <th>Gummy Worms</th>\n",
       "      <td>9559</td>\n",
       "      <td>9996</td>\n",
       "      <td>9986</td>\n",
       "      <td>10043</td>\n",
       "      <td>9801</td>\n",
       "      <td>9934</td>\n",
       "    </tr>\n",
       "    <tr>\n",
       "      <th>Kimchi and Seaweed</th>\n",
       "      <td>9676</td>\n",
       "      <td>9949</td>\n",
       "      <td>9967</td>\n",
       "      <td>9921</td>\n",
       "      <td>9773</td>\n",
       "      <td>10104</td>\n",
       "    </tr>\n",
       "    <tr>\n",
       "      <th>Nutrional Milk</th>\n",
       "      <td>9727</td>\n",
       "      <td>9691</td>\n",
       "      <td>9876</td>\n",
       "      <td>9786</td>\n",
       "      <td>9881</td>\n",
       "      <td>9767</td>\n",
       "    </tr>\n",
       "    <tr>\n",
       "      <th>Orange Beans</th>\n",
       "      <td>9774</td>\n",
       "      <td>10037</td>\n",
       "      <td>9611</td>\n",
       "      <td>9914</td>\n",
       "      <td>9964</td>\n",
       "      <td>10106</td>\n",
       "    </tr>\n",
       "    <tr>\n",
       "      <th>Yummy Vegetables</th>\n",
       "      <td>9959</td>\n",
       "      <td>10256</td>\n",
       "      <td>9896</td>\n",
       "      <td>9861</td>\n",
       "      <td>9735</td>\n",
       "      <td>9722</td>\n",
       "    </tr>\n",
       "  </tbody>\n",
       "</table>\n",
       "</div>"
      ],
      "text/plain": [
       "                    January  February  March  April    May   June\n",
       "Productname                                                      \n",
       "Beef Chicharon         9665     10001   9816   9890  10028   9902\n",
       "Gummy Vitamins         9681      9980  10145   9842   9948   9980\n",
       "Gummy Worms            9559      9996   9986  10043   9801   9934\n",
       "Kimchi and Seaweed     9676      9949   9967   9921   9773  10104\n",
       "Nutrional Milk         9727      9691   9876   9786   9881   9767\n",
       "Orange Beans           9774     10037   9611   9914   9964  10106\n",
       "Yummy Vegetables       9959     10256   9896   9861   9735   9722"
      ]
     },
     "execution_count": 99,
     "metadata": {},
     "output_type": "execute_result"
    }
   ],
   "source": [
    "#First table\n",
    "salesquanspec_df"
   ]
  },
  {
   "cell_type": "code",
   "execution_count": 100,
   "id": "17580135-14b9-4b6e-9dee-601efb1fdc5b",
   "metadata": {},
   "outputs": [
    {
     "data": {
      "text/html": [
       "<div>\n",
       "<style scoped>\n",
       "    .dataframe tbody tr th:only-of-type {\n",
       "        vertical-align: middle;\n",
       "    }\n",
       "\n",
       "    .dataframe tbody tr th {\n",
       "        vertical-align: top;\n",
       "    }\n",
       "\n",
       "    .dataframe thead th {\n",
       "        text-align: right;\n",
       "    }\n",
       "</style>\n",
       "<table border=\"1\" class=\"dataframe\">\n",
       "  <thead>\n",
       "    <tr style=\"text-align: right;\">\n",
       "      <th></th>\n",
       "      <th>January</th>\n",
       "      <th>February</th>\n",
       "      <th>March</th>\n",
       "      <th>April</th>\n",
       "      <th>May</th>\n",
       "      <th>June</th>\n",
       "    </tr>\n",
       "  </thead>\n",
       "  <tbody>\n",
       "    <tr>\n",
       "      <th>Yummy Vegetables</th>\n",
       "      <td>4979500</td>\n",
       "      <td>5128000</td>\n",
       "      <td>4948000</td>\n",
       "      <td>4930500</td>\n",
       "      <td>4867500</td>\n",
       "      <td>4861000</td>\n",
       "    </tr>\n",
       "    <tr>\n",
       "      <th>Gummy Worms</th>\n",
       "      <td>1433850</td>\n",
       "      <td>1499400</td>\n",
       "      <td>1497900</td>\n",
       "      <td>1506450</td>\n",
       "      <td>1470150</td>\n",
       "      <td>1490100</td>\n",
       "    </tr>\n",
       "    <tr>\n",
       "      <th>Beef Chicharon</th>\n",
       "      <td>12554835</td>\n",
       "      <td>12991299</td>\n",
       "      <td>12750984</td>\n",
       "      <td>12847110</td>\n",
       "      <td>13026372</td>\n",
       "      <td>12862698</td>\n",
       "    </tr>\n",
       "    <tr>\n",
       "      <th>Kimchi and Seaweed</th>\n",
       "      <td>7731124</td>\n",
       "      <td>7949251</td>\n",
       "      <td>7963633</td>\n",
       "      <td>7926879</td>\n",
       "      <td>7808627</td>\n",
       "      <td>8073096</td>\n",
       "    </tr>\n",
       "    <tr>\n",
       "      <th>Orange Beans</th>\n",
       "      <td>1945026</td>\n",
       "      <td>1997363</td>\n",
       "      <td>1912589</td>\n",
       "      <td>1972886</td>\n",
       "      <td>1982836</td>\n",
       "      <td>2011094</td>\n",
       "    </tr>\n",
       "    <tr>\n",
       "      <th>Gummy Vitamins</th>\n",
       "      <td>14521500</td>\n",
       "      <td>14970000</td>\n",
       "      <td>15217500</td>\n",
       "      <td>14763000</td>\n",
       "      <td>14922000</td>\n",
       "      <td>14970000</td>\n",
       "    </tr>\n",
       "    <tr>\n",
       "      <th>Nutrional Milk</th>\n",
       "      <td>19356730</td>\n",
       "      <td>19285090</td>\n",
       "      <td>19653240</td>\n",
       "      <td>19474140</td>\n",
       "      <td>19663190</td>\n",
       "      <td>19436330</td>\n",
       "    </tr>\n",
       "  </tbody>\n",
       "</table>\n",
       "</div>"
      ],
      "text/plain": [
       "                     January  February     March     April       May      June\n",
       "Yummy Vegetables     4979500   5128000   4948000   4930500   4867500   4861000\n",
       "Gummy Worms          1433850   1499400   1497900   1506450   1470150   1490100\n",
       "Beef Chicharon      12554835  12991299  12750984  12847110  13026372  12862698\n",
       "Kimchi and Seaweed   7731124   7949251   7963633   7926879   7808627   8073096\n",
       "Orange Beans         1945026   1997363   1912589   1972886   1982836   2011094\n",
       "Gummy Vitamins      14521500  14970000  15217500  14763000  14922000  14970000\n",
       "Nutrional Milk      19356730  19285090  19653240  19474140  19663190  19436330"
      ]
     },
     "execution_count": 100,
     "metadata": {},
     "output_type": "execute_result"
    }
   ],
   "source": [
    "#Second Table\n",
    "finalsalesval_df"
   ]
  },
  {
   "cell_type": "code",
   "execution_count": 101,
   "id": "a340c73b-3b8f-40af-9ae6-fbd42eec3063",
   "metadata": {},
   "outputs": [
    {
     "data": {
      "text/html": [
       "<div>\n",
       "<style scoped>\n",
       "    .dataframe tbody tr th:only-of-type {\n",
       "        vertical-align: middle;\n",
       "    }\n",
       "\n",
       "    .dataframe tbody tr th {\n",
       "        vertical-align: top;\n",
       "    }\n",
       "\n",
       "    .dataframe thead th {\n",
       "        text-align: right;\n",
       "    }\n",
       "</style>\n",
       "<table border=\"1\" class=\"dataframe\">\n",
       "  <thead>\n",
       "    <tr style=\"text-align: right;\">\n",
       "      <th></th>\n",
       "      <th>January</th>\n",
       "      <th>February</th>\n",
       "      <th>March</th>\n",
       "      <th>April</th>\n",
       "      <th>May</th>\n",
       "      <th>June</th>\n",
       "    </tr>\n",
       "  </thead>\n",
       "  <tbody>\n",
       "    <tr>\n",
       "      <th>Repeaters</th>\n",
       "      <td>0</td>\n",
       "      <td>5172</td>\n",
       "      <td>5216</td>\n",
       "      <td>5154</td>\n",
       "      <td>5110</td>\n",
       "      <td>5193</td>\n",
       "    </tr>\n",
       "    <tr>\n",
       "      <th>Inactive</th>\n",
       "      <td>0</td>\n",
       "      <td>1416</td>\n",
       "      <td>1747</td>\n",
       "      <td>1909</td>\n",
       "      <td>1917</td>\n",
       "      <td>1835</td>\n",
       "    </tr>\n",
       "    <tr>\n",
       "      <th>Engaged</th>\n",
       "      <td>6588</td>\n",
       "      <td>5172</td>\n",
       "      <td>5210</td>\n",
       "      <td>5151</td>\n",
       "      <td>5143</td>\n",
       "      <td>5195</td>\n",
       "    </tr>\n",
       "  </tbody>\n",
       "</table>\n",
       "</div>"
      ],
      "text/plain": [
       "           January  February  March  April   May  June\n",
       "Repeaters        0      5172   5216   5154  5110  5193\n",
       "Inactive         0      1416   1747   1909  1917  1835\n",
       "Engaged       6588      5172   5210   5151  5143  5195"
      ]
     },
     "execution_count": 101,
     "metadata": {},
     "output_type": "execute_result"
    }
   ],
   "source": [
    "#Third Table\n",
    "metric_df"
   ]
  },
  {
   "cell_type": "code",
   "execution_count": 102,
   "id": "821103c1-a5d5-46b8-8cc0-843324357b05",
   "metadata": {},
   "outputs": [
    {
     "data": {
      "text/plain": [
       "<AxesSubplot:>"
      ]
     },
     "execution_count": 102,
     "metadata": {},
     "output_type": "execute_result"
    },
    {
     "data": {
      "image/png": "[encoded data removed]",
      "text/plain": [
       "<Figure size 432x288 with 1 Axes>"
      ]
     },
     "metadata": {
      "needs_background": "light"
     },
     "output_type": "display_data"
    }
   ],
   "source": [
    "#Returns Line Graph of Total Sale Value per Month from January to June\n",
    "totsales = salesval_df.sum(axis=1)\n",
    "totsales.plot.line(x='Months',y='Sales')"
   ]
  },
  {
   "cell_type": "code",
   "execution_count": 103,
   "id": "c2c2b397-4194-4c49-b068-1c02cb40452e",
   "metadata": {},
   "outputs": [
    {
     "data": {
      "text/plain": [
       "<AxesSubplot:>"
      ]
     },
     "execution_count": 103,
     "metadata": {},
     "output_type": "execute_result"
    },
    {
     "data": {
      "image/png": "[encoded data removed]",
      "text/plain": [
       "<Figure size 432x288 with 1 Axes>"
      ]
     },
     "metadata": {
      "needs_background": "light"
     },
     "output_type": "display_data"
    }
   ],
   "source": [
    "#Returns Bar Graph of Total Sale Value per Item from January to June\n",
    "itemsales = finalsalesval_df.sum(axis=1)\n",
    "itemsales.plot.bar(x='Products',y='Sales')"
   ]
  },
  {
   "cell_type": "code",
   "execution_count": 104,
   "id": "92c6c376-22c3-445b-b0e4-f2522187ca94",
   "metadata": {},
   "outputs": [
    {
     "data": {
      "text/plain": [
       "<AxesSubplot:>"
      ]
     },
     "execution_count": 104,
     "metadata": {},
     "output_type": "execute_result"
    },
    {
     "data": {
      "image/png": "[encoded data removed]",
      "text/plain": [
       "<Figure size 432x288 with 1 Axes>"
      ]
     },
     "metadata": {
      "needs_background": "light"
     },
     "output_type": "display_data"
    }
   ],
   "source": [
    "#Returns line graph of engaged customers from January to June\n",
    "nmetric_df = metric_df.transpose()\n",
    "nmetric_df['Engaged'].plot.line(x='Month',y='No. of Repeaters')"
   ]
  },
  {
   "cell_type": "code",
   "execution_count": 105,
   "id": "bc49e61d-1515-415e-af7f-7b8de471f661",
   "metadata": {},
   "outputs": [
    {
     "data": {
      "text/plain": [
       "<AxesSubplot:>"
      ]
     },
     "execution_count": 105,
     "metadata": {},
     "output_type": "execute_result"
    },
    {
     "data": {
      "image/png": "[encoded data removed]",
      "text/plain": [
       "<Figure size 432x288 with 1 Axes>"
      ]
     },
     "metadata": {
      "needs_background": "light"
     },
     "output_type": "display_data"
    }
   ],
   "source": [
    "#Returns line graph of inactive customers from January to June\n",
    "nmetric_df['Inactive'].plot.line(x='Month',y='No. of Repeaters')"
   ]
  },
  {
   "cell_type": "code",
   "execution_count": 107,
   "id": "02f30d46-61f7-4625-bba7-6a3ee59cef5b",
   "metadata": {},
   "outputs": [
    {
     "data": {
      "text/plain": [
       "<AxesSubplot:>"
      ]
     },
     "execution_count": 107,
     "metadata": {},
     "output_type": "execute_result"
    },
    {
     "data": {
      "image/png": "[encoded data removed]",
      "text/plain": [
       "<Figure size 432x288 with 1 Axes>"
      ]
     },
     "metadata": {
      "needs_background": "light"
     },
     "output_type": "display_data"
    }
   ],
   "source": [
    "#Returns the total number of products sold from January to June\n",
    "nsalesquanspec_df=salesquanspec_df.transpose()\n",
    "productssoldm = nsalesquanspec_df.sum(axis=1)\n",
    "productssold.plot.line(x='Months',y='No. of Products')"
   ]
  },
  {
   "cell_type": "code",
   "execution_count": 110,
   "id": "697703ee-6b65-4498-85d0-563b6154dd58",
   "metadata": {},
   "outputs": [
    {
     "data": {
      "text/plain": [
       "<AxesSubplot:xlabel='Productname'>"
      ]
     },
     "execution_count": 110,
     "metadata": {},
     "output_type": "execute_result"
    },
    {
     "data": {
      "image/png": "[encoded data removed]",
      "text/plain": [
       "<Figure size 432x288 with 1 Axes>"
      ]
     },
     "metadata": {
      "needs_background": "light"
     },
     "output_type": "display_data"
    }
   ],
   "source": [
    "productssoldp = salesquanspec_df.sum(axis=1)\n",
    "productssoldp.plot.bar(x='Products',y='No. of Products')"
   ]
  },
  {
   "cell_type": "code",
   "execution_count": null,
   "id": "9eb994a4-04ab-4596-b7cc-0ae8bccf79fe",
   "metadata": {},
   "outputs": [],
   "source": []
  }
 ],
 "metadata": {
  "kernelspec": {
   "display_name": "Python 3 (ipykernel)",
   "language": "python",
   "name": "python3"
  },
  "language_info": {
   "codemirror_mode": {
    "name": "ipython",
    "version": 3
   },
   "file_extension": ".py",
   "mimetype": "text/x-python",
   "name": "python",
   "nbconvert_exporter": "python",
   "pygments_lexer": "ipython3",
   "version": "3.9.12"
  }
 },
 "nbformat": 4,
 "nbformat_minor": 5
}
